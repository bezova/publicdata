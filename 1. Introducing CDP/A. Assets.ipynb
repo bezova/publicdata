{
 "cells": [
  {
   "cell_type": "code",
   "execution_count": 7,
   "metadata": {},
   "outputs": [
    {
     "name": "stdout",
     "output_type": "stream",
     "text": [
      "Populating the interactive namespace from numpy and matplotlib\n"
     ]
    }
   ],
   "source": [
    "%pylab notebook\n",
    "\n",
    "import pandas as pd\n",
    "import numpy as np\n",
    "import datetime\n",
    "import os\n",
    "\n",
    "import ipywidgets as widgets\n",
    "\n",
    "from cognite.config import configure_session\n",
    "from cognite.v05.timeseries import get_datapoints_frame, get_timeseries\n",
    "from cognite.v05.assets import get_asset, get_assets, get_asset_subtree\n",
    "from cognite.v05.events import get_events, get_event"
   ]
  },
  {
   "cell_type": "code",
   "execution_count": 8,
   "metadata": {
    "collapsed": true
   },
   "outputs": [],
   "source": [
    "configure_session(os.environ.get('Public_key'), 'publicdata')"
   ]
  },
  {
   "cell_type": "markdown",
   "metadata": {},
   "source": [
    "### Look up a tag"
   ]
  },
  {
   "cell_type": "code",
   "execution_count": 9,
   "metadata": {
    "scrolled": true
   },
   "outputs": [
    {
     "data": {
      "text/html": [
       "<div>\n",
       "<style scoped>\n",
       "    .dataframe tbody tr th:only-of-type {\n",
       "        vertical-align: middle;\n",
       "    }\n",
       "\n",
       "    .dataframe tbody tr th {\n",
       "        vertical-align: top;\n",
       "    }\n",
       "\n",
       "    .dataframe thead th {\n",
       "        text-align: right;\n",
       "    }\n",
       "</style>\n",
       "<table border=\"1\" class=\"dataframe\">\n",
       "  <thead>\n",
       "    <tr style=\"text-align: right;\">\n",
       "      <th></th>\n",
       "      <th>createdTime</th>\n",
       "      <th>description</th>\n",
       "      <th>id</th>\n",
       "      <th>lastUpdatedTime</th>\n",
       "      <th>metadata</th>\n",
       "      <th>name</th>\n",
       "      <th>parentId</th>\n",
       "      <th>path</th>\n",
       "    </tr>\n",
       "  </thead>\n",
       "  <tbody>\n",
       "    <tr>\n",
       "      <th>0</th>\n",
       "      <td>0</td>\n",
       "      <td>VRD - 1ST STAGE COMPRESSOR</td>\n",
       "      <td>3047932288982463</td>\n",
       "      <td>0</td>\n",
       "      <td>{'ELC_STATUS_ID': '1211', 'RES_ID': '583453', ...</td>\n",
       "      <td>23-KA-9101</td>\n",
       "      <td>4856008121737468</td>\n",
       "      <td>[6687602007296940, 4650652196144007, 311145472...</td>\n",
       "    </tr>\n",
       "  </tbody>\n",
       "</table>\n",
       "</div>"
      ],
      "text/plain": [
       "   createdTime                 description                id  lastUpdatedTime  \\\n",
       "0            0  VRD - 1ST STAGE COMPRESSOR  3047932288982463                0   \n",
       "\n",
       "                                            metadata        name  \\\n",
       "0  {'ELC_STATUS_ID': '1211', 'RES_ID': '583453', ...  23-KA-9101   \n",
       "\n",
       "           parentId                                               path  \n",
       "0  4856008121737468  [6687602007296940, 4650652196144007, 311145472...  "
      ]
     },
     "execution_count": 9,
     "metadata": {},
     "output_type": "execute_result"
    }
   ],
   "source": [
    "# If we know the tag\n",
    "compressor_tag = '23-KA-9101'\n",
    "get_assets(name=compressor_tag).to_pandas()"
   ]
  },
  {
   "cell_type": "markdown",
   "metadata": {},
   "source": [
    "### Search for a description"
   ]
  },
  {
   "cell_type": "code",
   "execution_count": null,
   "metadata": {
    "collapsed": true
   },
   "outputs": [],
   "source": [
    "# By searching for it\n",
    "get_assets(description='1ST STAGE COMPRESSOR').to_pandas()"
   ]
  },
  {
   "cell_type": "markdown",
   "metadata": {},
   "source": [
    "### Browsing from the top"
   ]
  },
  {
   "cell_type": "code",
   "execution_count": null,
   "metadata": {
    "collapsed": true
   },
   "outputs": [],
   "source": [
    "# Browse from top\n",
    "get_assets(depth=1).to_pandas()"
   ]
  },
  {
   "cell_type": "code",
   "execution_count": null,
   "metadata": {
    "collapsed": true
   },
   "outputs": [],
   "source": [
    "get_asset_subtree(4650652196144007, depth=1).to_pandas()"
   ]
  },
  {
   "cell_type": "code",
   "execution_count": null,
   "metadata": {
    "collapsed": true
   },
   "outputs": [],
   "source": [
    "get_asset_subtree(3111454725058294, depth=1).to_pandas()"
   ]
  },
  {
   "cell_type": "code",
   "execution_count": null,
   "metadata": {
    "collapsed": true
   },
   "outputs": [],
   "source": [
    "get_asset_subtree(6895991969886325, depth=1).to_pandas()"
   ]
  },
  {
   "cell_type": "code",
   "execution_count": null,
   "metadata": {
    "collapsed": true
   },
   "outputs": [],
   "source": [
    "get_asset_subtree(4518112062673878, depth=1).to_pandas()"
   ]
  },
  {
   "cell_type": "code",
   "execution_count": null,
   "metadata": {
    "collapsed": true
   },
   "outputs": [],
   "source": [
    "get_asset_subtree(7372310232665628, depth=1).to_pandas()"
   ]
  },
  {
   "cell_type": "code",
   "execution_count": null,
   "metadata": {
    "collapsed": true
   },
   "outputs": [],
   "source": [
    "get_asset_subtree(4856008121737468, depth=1).to_pandas()"
   ]
  },
  {
   "cell_type": "markdown",
   "metadata": {},
   "source": [
    "### Build an Interactive tool"
   ]
  },
  {
   "cell_type": "code",
   "execution_count": 10,
   "metadata": {
    "collapsed": true
   },
   "outputs": [],
   "source": [
    "def list_assets(asset_id):\n",
    "    assets = get_asset_subtree(asset_id, depth=1).to_pandas()\n",
    "    description= assets.description.values\n",
    "    name = assets.name.values\n",
    "    ix = assets.id.values\n",
    "    lst = [str(ix[i])+' ~ '+name[i] + ' ~ '+ str(description[i])  for i in range(0, len(assets))]\n",
    "    return lst\n",
    "def on_change(change):\n",
    "    if change['type'] == 'change' and change['name'] == 'value':\n",
    "        selector.idn.append(change['new'].split('~')[0])\n",
    "        options = list_assets(int(selector.idn[len(selector.idn)-1]))\n",
    "        selector.options = options\n",
    "\n",
    "def back_cliked(b):\n",
    "    del selector.idn[-1]\n",
    "    options = list_assets(int(selector.idn[len(selector.idn)-1]))\n",
    "    selector.options = options"
   ]
  },
  {
   "cell_type": "code",
   "execution_count": 11,
   "metadata": {},
   "outputs": [
    {
     "data": {
      "application/vnd.jupyter.widget-view+json": {
       "model_id": "67c1422a2bcb4c1296a093f7bffaf1c8",
       "version_major": 2,
       "version_minor": 0
      },
      "text/plain": [
       "A Jupyter Widget"
      ]
     },
     "metadata": {},
     "output_type": "display_data"
    }
   ],
   "source": [
    "idn = 4650652196144007\n",
    "options  = list_assets(idn)\n",
    "selector = widgets.Select(options=options, layout=widgets.Layout(width='100%', height='300px'))\n",
    "selector.idn = [idn]\n",
    "back = widgets.Button(description='Back')\n",
    "selector.observe(on_change)\n",
    "back.on_click(back_cliked)\n",
    "app = widgets.VBox([selector, back])\n",
    "display(app)"
   ]
  },
  {
   "cell_type": "code",
   "execution_count": null,
   "metadata": {
    "collapsed": true
   },
   "outputs": [],
   "source": []
  }
 ],
 "metadata": {
  "kernelspec": {
   "display_name": "Python 3",
   "language": "python",
   "name": "python3"
  },
  "language_info": {
   "codemirror_mode": {
    "name": "ipython",
    "version": 3
   },
   "file_extension": ".py",
   "mimetype": "text/x-python",
   "name": "python",
   "nbconvert_exporter": "python",
   "pygments_lexer": "ipython3",
   "version": "3.6.3"
  }
 },
 "nbformat": 4,
 "nbformat_minor": 2
}
